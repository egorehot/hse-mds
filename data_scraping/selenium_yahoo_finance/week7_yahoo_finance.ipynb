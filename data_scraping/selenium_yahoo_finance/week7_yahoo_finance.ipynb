{
 "cells": [
  {
   "cell_type": "markdown",
   "metadata": {},
   "source": [
    "# Scraping Yahoo Finance"
   ]
  },
  {
   "cell_type": "markdown",
   "metadata": {},
   "source": [
    "## Week 7. Practice Programming Assignment 1"
   ]
  },
  {
   "cell_type": "markdown",
   "metadata": {},
   "source": [
    "In this assignment you are required to look at historical data for 30 companies from [Dow Jones Index](https://en.wikipedia.org/wiki/Dow_Jones_Industrial_Average). Tickers for companies from the index can be found in *dow_jones_tickers.txt*. For each company you should get historical daily stock prices for 2019 from https://finance.yahoo.com/, and then use the data to answer the questions you will find below. "
   ]
  },
  {
   "cell_type": "markdown",
   "metadata": {},
   "source": [
    "### Coding part"
   ]
  },
  {
   "cell_type": "code",
   "execution_count": 1,
   "metadata": {},
   "outputs": [],
   "source": [
    "from datetime import datetime\n",
    "\n",
    "from bs4 import BeautifulSoup\n",
    "import requests\n",
    "\n",
    "from selenium import webdriver\n",
    "from selenium.webdriver.common.keys import Keys\n",
    "from selenium.webdriver.common.by import By\n",
    "from selenium.webdriver.support.ui import WebDriverWait\n",
    "\n",
    "import pandas as pd"
   ]
  },
  {
   "cell_type": "code",
   "execution_count": 2,
   "metadata": {},
   "outputs": [
    {
     "name": "stdout",
     "output_type": "stream",
     "text": [
      "['AAPL', 'AXP', 'BA', 'CAT', 'CSCO', 'CVX', 'DIS', 'DOW', 'GS', 'HD', 'IBM', 'INTC', 'JNJ', 'JPM', 'KO', 'MCD', 'MMM', 'MRK', 'MSFT', 'NKE', 'PFE', 'PG', 'RTX', 'TRV', 'UNH', 'V', 'VZ', 'WBA', 'WMT', 'XOM']\n"
     ]
    }
   ],
   "source": [
    "with open('dow_jones_tickers.html') as f:\n",
    "    tickers_soup = BeautifulSoup(f)\n",
    "\n",
    "tickers_list = [element.text for element in \n",
    "                tickers_soup.find_all('td', attrs={'class': \"blob-code blob-code-inner js-file-line\"})]\n",
    "tickers_list.sort()\n",
    "print(tickers_list)"
   ]
  },
  {
   "cell_type": "code",
   "execution_count": 3,
   "metadata": {},
   "outputs": [],
   "source": [
    "url = 'https://finance.yahoo.com/quote/{ticker}/history?period1=1546300800&period2=1577750400&interval=1d&filter=history&frequency=1d'"
   ]
  },
  {
   "cell_type": "code",
   "execution_count": 4,
   "metadata": {},
   "outputs": [],
   "source": [
    "# headers = {'User-Agent': 'Mozilla/5.0 (Macintosh; Intel Mac OS X 10_15_7) AppleWebKit/605.1.15 (KHTML, like Gecko) Version/16.5 Safari/605.1.15'}\n",
    "# session = Session()\n",
    "# response = session.get(url.format(ticker='AAPL'), headers=headers)\n",
    "# response.status_code"
   ]
  },
  {
   "cell_type": "code",
   "execution_count": 5,
   "metadata": {},
   "outputs": [],
   "source": [
    "# soup = BeautifulSoup(response.text)\n",
    "# tickers_data = soup.find_all('tr', attrs={'class': \"BdT Bdc($seperatorColor) Ta(end) Fz(s) Whs(nw)\"})\n",
    "# tickers_data[0]"
   ]
  },
  {
   "cell_type": "code",
   "execution_count": 6,
   "metadata": {},
   "outputs": [],
   "source": [
    "class at_least_n_present(object):\n",
    "    def __init__(self, locator, n):\n",
    "        self.locator = locator\n",
    "        self.n = n\n",
    "    \n",
    "    def __call__(self, locator):\n",
    "        elements = driver.find_elements(*self.locator)\n",
    "        if len(elements) >= self.n:\n",
    "            return elements\n",
    "        else:\n",
    "            for _ in range(2):\n",
    "                driver.find_element(By.CSS_SELECTOR, 'body').send_keys(Keys.PAGE_DOWN)\n",
    "            return False"
   ]
  },
  {
   "cell_type": "code",
   "execution_count": 7,
   "metadata": {},
   "outputs": [],
   "source": [
    "def get_ticker_prices(driver, url):\n",
    "    print('\\tDownloading web page...')\n",
    "    driver.get(url)\n",
    "\n",
    "    html_rows = WebDriverWait(driver, 8).until(\n",
    "        at_least_n_present((By.XPATH, \"//tr[@class='BdT Bdc($seperatorColor) Ta(end) Fz(s) Whs(nw)']\"),\n",
    "                            201)\n",
    "    )\n",
    "\n",
    "    rows = [tuple(row.text.split()) for row in html_rows]    \n",
    "    rows = set(rows)\n",
    "    print(f'\\tGot {len(rows)} unique rows.')\n",
    "    \n",
    "    return list(rows)"
   ]
  },
  {
   "cell_type": "code",
   "execution_count": 8,
   "metadata": {
    "scrolled": true
   },
   "outputs": [
    {
     "name": "stdout",
     "output_type": "stream",
     "text": [
      "Start collecting AAPL.\n",
      "\tDownloading web page...\n",
      "\tGot 255 unique rows.\n",
      "Appended 255 rows.\n",
      "Start collecting AXP.\n",
      "\tDownloading web page...\n",
      "\tGot 255 unique rows.\n",
      "Appended 255 rows.\n",
      "Start collecting BA.\n",
      "\tDownloading web page...\n",
      "\tGot 255 unique rows.\n",
      "Appended 255 rows.\n",
      "Start collecting CAT.\n",
      "\tDownloading web page...\n",
      "\tGot 255 unique rows.\n",
      "Appended 255 rows.\n",
      "Start collecting CSCO.\n",
      "\tDownloading web page...\n",
      "\tGot 255 unique rows.\n",
      "Appended 255 rows.\n",
      "Start collecting CVX.\n",
      "\tDownloading web page...\n",
      "\tGot 255 unique rows.\n",
      "Appended 255 rows.\n",
      "Start collecting DIS.\n",
      "\tDownloading web page...\n",
      "\tGot 253 unique rows.\n",
      "Appended 253 rows.\n",
      "Start collecting DOW.\n",
      "\tDownloading web page...\n",
      "\tGot 201 unique rows.\n",
      "Appended 201 rows.\n",
      "Start collecting GS.\n",
      "\tDownloading web page...\n",
      "\tGot 255 unique rows.\n",
      "Appended 255 rows.\n",
      "Start collecting HD.\n",
      "\tDownloading web page...\n",
      "\tGot 255 unique rows.\n",
      "Appended 255 rows.\n",
      "Start collecting IBM.\n",
      "\tDownloading web page...\n",
      "\tGot 255 unique rows.\n",
      "Appended 255 rows.\n",
      "Start collecting INTC.\n",
      "\tDownloading web page...\n",
      "\tGot 255 unique rows.\n",
      "Appended 255 rows.\n",
      "Start collecting JNJ.\n",
      "\tDownloading web page...\n",
      "\tGot 255 unique rows.\n",
      "Appended 255 rows.\n",
      "Start collecting JPM.\n",
      "\tDownloading web page...\n",
      "\tGot 255 unique rows.\n",
      "Appended 255 rows.\n",
      "Start collecting KO.\n",
      "\tDownloading web page...\n",
      "\tGot 255 unique rows.\n",
      "Appended 255 rows.\n",
      "Start collecting MCD.\n",
      "\tDownloading web page...\n",
      "\tGot 255 unique rows.\n",
      "Appended 255 rows.\n",
      "Start collecting MMM.\n",
      "\tDownloading web page...\n",
      "\tGot 255 unique rows.\n",
      "Appended 255 rows.\n",
      "Start collecting MRK.\n",
      "\tDownloading web page...\n",
      "\tGot 255 unique rows.\n",
      "Appended 255 rows.\n",
      "Start collecting MSFT.\n",
      "\tDownloading web page...\n",
      "\tGot 255 unique rows.\n",
      "Appended 255 rows.\n",
      "Start collecting NKE.\n",
      "\tDownloading web page...\n",
      "\tGot 255 unique rows.\n",
      "Appended 255 rows.\n",
      "Start collecting PFE.\n",
      "\tDownloading web page...\n",
      "\tGot 255 unique rows.\n",
      "Appended 255 rows.\n",
      "Start collecting PG.\n",
      "\tDownloading web page...\n",
      "\tGot 255 unique rows.\n",
      "Appended 255 rows.\n",
      "Start collecting RTX.\n",
      "\tDownloading web page...\n",
      "\tGot 255 unique rows.\n",
      "Appended 255 rows.\n",
      "Start collecting TRV.\n",
      "\tDownloading web page...\n",
      "\tGot 255 unique rows.\n",
      "Appended 255 rows.\n",
      "Start collecting UNH.\n",
      "\tDownloading web page...\n",
      "\tGot 255 unique rows.\n",
      "Appended 255 rows.\n",
      "Start collecting V.\n",
      "\tDownloading web page...\n",
      "\tGot 255 unique rows.\n",
      "Appended 255 rows.\n",
      "Start collecting VZ.\n",
      "\tDownloading web page...\n",
      "\tGot 255 unique rows.\n",
      "Appended 255 rows.\n",
      "Start collecting WBA.\n",
      "\tDownloading web page...\n",
      "\tGot 255 unique rows.\n",
      "Appended 255 rows.\n",
      "Start collecting WMT.\n",
      "\tDownloading web page...\n",
      "\tGot 255 unique rows.\n",
      "Appended 255 rows.\n",
      "Start collecting XOM.\n",
      "\tDownloading web page...\n",
      "\tGot 255 unique rows.\n",
      "Appended 255 rows.\n"
     ]
    }
   ],
   "source": [
    "driver = webdriver.Chrome()\n",
    "\n",
    "headers = ['month', 'day_of_month', 'year', 'open', 'high', 'low', 'close', 'adj_close', 'volume', 'ticker']\n",
    "result_df = pd.DataFrame(columns=headers)\n",
    "\n",
    "for ticker in tickers_list:\n",
    "    print(f'Start collecting {ticker}.')\n",
    "    data = get_ticker_prices(driver, url.format(ticker=ticker))\n",
    "    temp_df = pd.DataFrame(data, columns=headers[:9])\n",
    "    temp_df['ticker'] = [ticker] * len(data)\n",
    "    \n",
    "    result_df = pd.concat([result_df, temp_df])\n",
    "    temp_df.drop(temp_df.index, inplace=True)\n",
    "    print(f'Appended {len(data)} rows.')\n",
    "\n",
    "driver.quit()\n",
    "\n",
    "result_df.to_csv(f'tickers{datetime.now().strftime('%Y-%m-%dT%H:%M')}.csv', index=False)"
   ]
  },
  {
   "cell_type": "code",
   "execution_count": 9,
   "metadata": {},
   "outputs": [
    {
     "data": {
      "text/html": [
       "<div>\n",
       "<style scoped>\n",
       "    .dataframe tbody tr th:only-of-type {\n",
       "        vertical-align: middle;\n",
       "    }\n",
       "\n",
       "    .dataframe tbody tr th {\n",
       "        vertical-align: top;\n",
       "    }\n",
       "\n",
       "    .dataframe thead th {\n",
       "        text-align: right;\n",
       "    }\n",
       "</style>\n",
       "<table border=\"1\" class=\"dataframe\">\n",
       "  <thead>\n",
       "    <tr style=\"text-align: right;\">\n",
       "      <th></th>\n",
       "      <th>month</th>\n",
       "      <th>day_of_month</th>\n",
       "      <th>year</th>\n",
       "      <th>open</th>\n",
       "      <th>high</th>\n",
       "      <th>low</th>\n",
       "      <th>close</th>\n",
       "      <th>adj_close</th>\n",
       "      <th>volume</th>\n",
       "      <th>ticker</th>\n",
       "    </tr>\n",
       "  </thead>\n",
       "  <tbody>\n",
       "    <tr>\n",
       "      <th>0</th>\n",
       "      <td>Jun</td>\n",
       "      <td>21,</td>\n",
       "      <td>2019</td>\n",
       "      <td>49.70</td>\n",
       "      <td>50.21</td>\n",
       "      <td>49.54</td>\n",
       "      <td>49.69</td>\n",
       "      <td>48.22</td>\n",
       "      <td>191,202,400</td>\n",
       "      <td>AAPL</td>\n",
       "    </tr>\n",
       "    <tr>\n",
       "      <th>1</th>\n",
       "      <td>Jun</td>\n",
       "      <td>11,</td>\n",
       "      <td>2019</td>\n",
       "      <td>48.72</td>\n",
       "      <td>49.00</td>\n",
       "      <td>48.40</td>\n",
       "      <td>48.70</td>\n",
       "      <td>47.25</td>\n",
       "      <td>107,731,600</td>\n",
       "      <td>AAPL</td>\n",
       "    </tr>\n",
       "    <tr>\n",
       "      <th>2</th>\n",
       "      <td>Mar</td>\n",
       "      <td>04,</td>\n",
       "      <td>2019</td>\n",
       "      <td>43.92</td>\n",
       "      <td>44.44</td>\n",
       "      <td>43.49</td>\n",
       "      <td>43.96</td>\n",
       "      <td>42.49</td>\n",
       "      <td>109,744,800</td>\n",
       "      <td>AAPL</td>\n",
       "    </tr>\n",
       "    <tr>\n",
       "      <th>3</th>\n",
       "      <td>Feb</td>\n",
       "      <td>01,</td>\n",
       "      <td>2019</td>\n",
       "      <td>41.74</td>\n",
       "      <td>42.24</td>\n",
       "      <td>41.48</td>\n",
       "      <td>41.63</td>\n",
       "      <td>40.06</td>\n",
       "      <td>130,672,400</td>\n",
       "      <td>AAPL</td>\n",
       "    </tr>\n",
       "    <tr>\n",
       "      <th>4</th>\n",
       "      <td>Nov</td>\n",
       "      <td>07,</td>\n",
       "      <td>2019</td>\n",
       "      <td>0.1925</td>\n",
       "      <td>Dividend</td>\n",
       "      <td>None</td>\n",
       "      <td>None</td>\n",
       "      <td>None</td>\n",
       "      <td>None</td>\n",
       "      <td>AAPL</td>\n",
       "    </tr>\n",
       "  </tbody>\n",
       "</table>\n",
       "</div>"
      ],
      "text/plain": [
       "  month day_of_month  year    open      high    low  close adj_close  \\\n",
       "0   Jun          21,  2019   49.70     50.21  49.54  49.69     48.22   \n",
       "1   Jun          11,  2019   48.72     49.00  48.40  48.70     47.25   \n",
       "2   Mar          04,  2019   43.92     44.44  43.49  43.96     42.49   \n",
       "3   Feb          01,  2019   41.74     42.24  41.48  41.63     40.06   \n",
       "4   Nov          07,  2019  0.1925  Dividend   None   None      None   \n",
       "\n",
       "        volume ticker  \n",
       "0  191,202,400   AAPL  \n",
       "1  107,731,600   AAPL  \n",
       "2  109,744,800   AAPL  \n",
       "3  130,672,400   AAPL  \n",
       "4         None   AAPL  "
      ]
     },
     "execution_count": 9,
     "metadata": {},
     "output_type": "execute_result"
    }
   ],
   "source": [
    "tickers_df = result_df.copy()\n",
    "tickers_df.head()"
   ]
  },
  {
   "cell_type": "code",
   "execution_count": 10,
   "metadata": {},
   "outputs": [],
   "source": [
    "tickers_df['date'] = pd.to_datetime(\n",
    "    tickers_df.day_of_month + tickers_df.month + tickers_df.year,\n",
    "    format='%d,%b%Y'\n",
    ")\n",
    "tickers_df.drop(columns=['month', 'day_of_month', 'year'], inplace=True)\n",
    "\n",
    "tickers_df['volume'] = tickers_df.volume.str.replace(',', '')"
   ]
  },
  {
   "cell_type": "code",
   "execution_count": 19,
   "metadata": {},
   "outputs": [],
   "source": [
    "num_cols = tickers_df.columns[:6]\n",
    "tickers_df[num_cols] = tickers_df[num_cols].apply(pd.to_numeric, errors='coerce')"
   ]
  },
  {
   "cell_type": "code",
   "execution_count": null,
   "metadata": {},
   "outputs": [],
   "source": [
    "tickers_df.dropna(inplace=True)"
   ]
  },
  {
   "cell_type": "code",
   "execution_count": 42,
   "metadata": {},
   "outputs": [
    {
     "data": {
      "text/html": [
       "<div>\n",
       "<style scoped>\n",
       "    .dataframe tbody tr th:only-of-type {\n",
       "        vertical-align: middle;\n",
       "    }\n",
       "\n",
       "    .dataframe tbody tr th {\n",
       "        vertical-align: top;\n",
       "    }\n",
       "\n",
       "    .dataframe thead th {\n",
       "        text-align: right;\n",
       "    }\n",
       "</style>\n",
       "<table border=\"1\" class=\"dataframe\">\n",
       "  <thead>\n",
       "    <tr style=\"text-align: right;\">\n",
       "      <th></th>\n",
       "      <th>open</th>\n",
       "      <th>high</th>\n",
       "      <th>low</th>\n",
       "      <th>close</th>\n",
       "      <th>adj_close</th>\n",
       "      <th>volume</th>\n",
       "      <th>ticker</th>\n",
       "      <th>date</th>\n",
       "      <th>growth</th>\n",
       "    </tr>\n",
       "  </thead>\n",
       "  <tbody>\n",
       "    <tr>\n",
       "      <th>0</th>\n",
       "      <td>93.91</td>\n",
       "      <td>96.27</td>\n",
       "      <td>93.77</td>\n",
       "      <td>95.68</td>\n",
       "      <td>89.76</td>\n",
       "      <td>4175400.0</td>\n",
       "      <td>AXP</td>\n",
       "      <td>2019-01-02</td>\n",
       "      <td>1.884783</td>\n",
       "    </tr>\n",
       "    <tr>\n",
       "      <th>1</th>\n",
       "      <td>42.28</td>\n",
       "      <td>43.20</td>\n",
       "      <td>42.21</td>\n",
       "      <td>42.95</td>\n",
       "      <td>37.45</td>\n",
       "      <td>23833500.0</td>\n",
       "      <td>CSCO</td>\n",
       "      <td>2019-01-02</td>\n",
       "      <td>1.584674</td>\n",
       "    </tr>\n",
       "    <tr>\n",
       "      <th>2</th>\n",
       "      <td>91.03</td>\n",
       "      <td>91.39</td>\n",
       "      <td>89.93</td>\n",
       "      <td>91.28</td>\n",
       "      <td>81.45</td>\n",
       "      <td>9843900.0</td>\n",
       "      <td>PG</td>\n",
       "      <td>2019-01-02</td>\n",
       "      <td>0.274635</td>\n",
       "    </tr>\n",
       "    <tr>\n",
       "      <th>3</th>\n",
       "      <td>46.94</td>\n",
       "      <td>47.22</td>\n",
       "      <td>46.56</td>\n",
       "      <td>46.93</td>\n",
       "      <td>40.79</td>\n",
       "      <td>11603700.0</td>\n",
       "      <td>KO</td>\n",
       "      <td>2019-01-02</td>\n",
       "      <td>-0.021304</td>\n",
       "    </tr>\n",
       "    <tr>\n",
       "      <th>4</th>\n",
       "      <td>316.19</td>\n",
       "      <td>323.95</td>\n",
       "      <td>313.71</td>\n",
       "      <td>323.81</td>\n",
       "      <td>314.65</td>\n",
       "      <td>3292200.0</td>\n",
       "      <td>BA</td>\n",
       "      <td>2019-01-02</td>\n",
       "      <td>2.409943</td>\n",
       "    </tr>\n",
       "  </tbody>\n",
       "</table>\n",
       "</div>"
      ],
      "text/plain": [
       "     open    high     low   close  adj_close      volume ticker       date  \\\n",
       "0   93.91   96.27   93.77   95.68      89.76   4175400.0    AXP 2019-01-02   \n",
       "1   42.28   43.20   42.21   42.95      37.45  23833500.0   CSCO 2019-01-02   \n",
       "2   91.03   91.39   89.93   91.28      81.45   9843900.0     PG 2019-01-02   \n",
       "3   46.94   47.22   46.56   46.93      40.79  11603700.0     KO 2019-01-02   \n",
       "4  316.19  323.95  313.71  323.81     314.65   3292200.0     BA 2019-01-02   \n",
       "\n",
       "     growth  \n",
       "0  1.884783  \n",
       "1  1.584674  \n",
       "2  0.274635  \n",
       "3 -0.021304  \n",
       "4  2.409943  "
      ]
     },
     "execution_count": 42,
     "metadata": {},
     "output_type": "execute_result"
    }
   ],
   "source": [
    "tickers_df = tickers_df.sort_values(by='date').reset_index(drop=True)\n",
    "tickers_df.head()"
   ]
  },
  {
   "cell_type": "markdown",
   "metadata": {},
   "source": [
    "<br><br>\n",
    "\n",
    "### Questions\n",
    "\n",
    "<br><br>\n",
    "\n",
    "**Question 1.** What is the average change of price over the year (in %)?\n",
    "\n",
    "*Note 1*. The opening price is the price at which a stock first trades upon the opening of an exchange on a trading day.\n",
    "\n",
    "*Note 2*. The closing price for any stock is the final price at which it trades during regular market hours on any given day.\n",
    "\n",
    "*Note 3*. Here by the price change we going to mean a ratio of a closing price in the last day of the period to an opening price in the first day of that period, subtracted one and multiplied by 100.\n",
    "\n",
    "Example: if a price of a stock in day 1 opened at \\\\$100, and its close price in the last day was \\\\$120, then the price change during the period is: $$\\left(\\dfrac{120}{100}-1\\right) * 100 = (1.2 - 1) * 100=20.$$\n",
    "\n",
    "The price grew by 20%."
   ]
  },
  {
   "cell_type": "markdown",
   "metadata": {},
   "source": []
  },
  {
   "cell_type": "code",
   "execution_count": 62,
   "metadata": {},
   "outputs": [],
   "source": [
    " tickers_df['growth'] = (tickers_df.close / tickers_df.open - 1) * 100"
   ]
  },
  {
   "cell_type": "code",
   "execution_count": 51,
   "metadata": {},
   "outputs": [],
   "source": [
    "open_close_df = tickers_df.groupby('ticker').agg(func={'open': 'first', 'close': 'last'})\n",
    "open_close_df['growth'] = (open_close_df['close'] / open_close_df['open'] - 1) * 100"
   ]
  },
  {
   "cell_type": "code",
   "execution_count": 52,
   "metadata": {},
   "outputs": [
    {
     "name": "stdout",
     "output_type": "stream",
     "text": [
      "23.285396890298383\n"
     ]
    }
   ],
   "source": [
    "answer_part_1 = open_close_df.growth.mean()\n",
    "print(answer_part_1)"
   ]
  },
  {
   "cell_type": "markdown",
   "metadata": {},
   "source": [
    "<br>\n",
    "\n",
    "**Question 2.** What company's stock price grew the most (in %)? Enter ticker of the company as an answer)"
   ]
  },
  {
   "cell_type": "code",
   "execution_count": 53,
   "metadata": {},
   "outputs": [
    {
     "data": {
      "text/html": [
       "<div>\n",
       "<style scoped>\n",
       "    .dataframe tbody tr th:only-of-type {\n",
       "        vertical-align: middle;\n",
       "    }\n",
       "\n",
       "    .dataframe tbody tr th {\n",
       "        vertical-align: top;\n",
       "    }\n",
       "\n",
       "    .dataframe thead th {\n",
       "        text-align: right;\n",
       "    }\n",
       "</style>\n",
       "<table border=\"1\" class=\"dataframe\">\n",
       "  <thead>\n",
       "    <tr style=\"text-align: right;\">\n",
       "      <th></th>\n",
       "      <th>open</th>\n",
       "      <th>close</th>\n",
       "      <th>growth</th>\n",
       "    </tr>\n",
       "    <tr>\n",
       "      <th>ticker</th>\n",
       "      <th></th>\n",
       "      <th></th>\n",
       "      <th></th>\n",
       "    </tr>\n",
       "  </thead>\n",
       "  <tbody>\n",
       "    <tr>\n",
       "      <th>AAPL</th>\n",
       "      <td>38.72</td>\n",
       "      <td>72.88</td>\n",
       "      <td>88.223140</td>\n",
       "    </tr>\n",
       "    <tr>\n",
       "      <th>MSFT</th>\n",
       "      <td>99.55</td>\n",
       "      <td>157.59</td>\n",
       "      <td>58.302361</td>\n",
       "    </tr>\n",
       "    <tr>\n",
       "      <th>V</th>\n",
       "      <td>130.00</td>\n",
       "      <td>187.83</td>\n",
       "      <td>44.484615</td>\n",
       "    </tr>\n",
       "    <tr>\n",
       "      <th>JPM</th>\n",
       "      <td>95.95</td>\n",
       "      <td>138.63</td>\n",
       "      <td>44.481501</td>\n",
       "    </tr>\n",
       "    <tr>\n",
       "      <th>RTX</th>\n",
       "      <td>66.18</td>\n",
       "      <td>94.32</td>\n",
       "      <td>42.520399</td>\n",
       "    </tr>\n",
       "  </tbody>\n",
       "</table>\n",
       "</div>"
      ],
      "text/plain": [
       "          open   close     growth\n",
       "ticker                           \n",
       "AAPL     38.72   72.88  88.223140\n",
       "MSFT     99.55  157.59  58.302361\n",
       "V       130.00  187.83  44.484615\n",
       "JPM      95.95  138.63  44.481501\n",
       "RTX      66.18   94.32  42.520399"
      ]
     },
     "execution_count": 53,
     "metadata": {},
     "output_type": "execute_result"
    }
   ],
   "source": [
    "open_close_df.sort_values(by='growth', ascending=False).head()"
   ]
  },
  {
   "cell_type": "code",
   "execution_count": 54,
   "metadata": {},
   "outputs": [],
   "source": [
    "answer_part_2 = 'AAPL'"
   ]
  },
  {
   "cell_type": "markdown",
   "metadata": {},
   "source": [
    "<br>\n",
    "\n",
    "**Question 3.** What company's stock lost in price the most (in %)? Enter ticker of the company as an answer"
   ]
  },
  {
   "cell_type": "code",
   "execution_count": 55,
   "metadata": {},
   "outputs": [
    {
     "data": {
      "text/html": [
       "<div>\n",
       "<style scoped>\n",
       "    .dataframe tbody tr th:only-of-type {\n",
       "        vertical-align: middle;\n",
       "    }\n",
       "\n",
       "    .dataframe tbody tr th {\n",
       "        vertical-align: top;\n",
       "    }\n",
       "\n",
       "    .dataframe thead th {\n",
       "        text-align: right;\n",
       "    }\n",
       "</style>\n",
       "<table border=\"1\" class=\"dataframe\">\n",
       "  <thead>\n",
       "    <tr style=\"text-align: right;\">\n",
       "      <th></th>\n",
       "      <th>open</th>\n",
       "      <th>close</th>\n",
       "      <th>growth</th>\n",
       "    </tr>\n",
       "    <tr>\n",
       "      <th>ticker</th>\n",
       "      <th></th>\n",
       "      <th></th>\n",
       "      <th></th>\n",
       "    </tr>\n",
       "  </thead>\n",
       "  <tbody>\n",
       "    <tr>\n",
       "      <th>WBA</th>\n",
       "      <td>67.20</td>\n",
       "      <td>58.91</td>\n",
       "      <td>-12.336310</td>\n",
       "    </tr>\n",
       "    <tr>\n",
       "      <th>PFE</th>\n",
       "      <td>40.91</td>\n",
       "      <td>36.92</td>\n",
       "      <td>-9.753117</td>\n",
       "    </tr>\n",
       "    <tr>\n",
       "      <th>MMM</th>\n",
       "      <td>187.82</td>\n",
       "      <td>175.83</td>\n",
       "      <td>-6.383772</td>\n",
       "    </tr>\n",
       "    <tr>\n",
       "      <th>DOW</th>\n",
       "      <td>52.75</td>\n",
       "      <td>54.34</td>\n",
       "      <td>3.014218</td>\n",
       "    </tr>\n",
       "    <tr>\n",
       "      <th>XOM</th>\n",
       "      <td>67.35</td>\n",
       "      <td>69.48</td>\n",
       "      <td>3.162584</td>\n",
       "    </tr>\n",
       "  </tbody>\n",
       "</table>\n",
       "</div>"
      ],
      "text/plain": [
       "          open   close     growth\n",
       "ticker                           \n",
       "WBA      67.20   58.91 -12.336310\n",
       "PFE      40.91   36.92  -9.753117\n",
       "MMM     187.82  175.83  -6.383772\n",
       "DOW      52.75   54.34   3.014218\n",
       "XOM      67.35   69.48   3.162584"
      ]
     },
     "execution_count": 55,
     "metadata": {},
     "output_type": "execute_result"
    }
   ],
   "source": [
    "open_close_df.sort_values(by='growth').head()"
   ]
  },
  {
   "cell_type": "code",
   "execution_count": 56,
   "metadata": {},
   "outputs": [],
   "source": [
    "answer_part_3 = 'WBA'"
   ]
  },
  {
   "cell_type": "markdown",
   "metadata": {},
   "source": [
    "<br>\n",
    "\n",
    "**Question 4.** What company had the largest summary volume over the year? Enter ticker of the company as an answer"
   ]
  },
  {
   "cell_type": "code",
   "execution_count": 60,
   "metadata": {},
   "outputs": [
    {
     "data": {
      "text/plain": [
       "ticker\n",
       "AAPL    2.815414e+10\n",
       "MSFT    6.176041e+09\n",
       "PFE     6.038738e+09\n",
       "INTC    5.505541e+09\n",
       "CSCO    5.157499e+09\n",
       "Name: volume, dtype: float64"
      ]
     },
     "execution_count": 60,
     "metadata": {},
     "output_type": "execute_result"
    }
   ],
   "source": [
    "tickers_df.groupby('ticker')['volume'].sum().sort_values(ascending=False).head()"
   ]
  },
  {
   "cell_type": "code",
   "execution_count": 61,
   "metadata": {},
   "outputs": [],
   "source": [
    "answer_part_4 = 'AAPL'"
   ]
  },
  {
   "cell_type": "markdown",
   "metadata": {},
   "source": [
    "<br>\n",
    "\n",
    "**Question 5.** What is the biggest stock price daily increase (in %)? Enter the number "
   ]
  },
  {
   "cell_type": "code",
   "execution_count": 63,
   "metadata": {},
   "outputs": [
    {
     "data": {
      "text/plain": [
       "7.740997118000381"
      ]
     },
     "execution_count": 63,
     "metadata": {},
     "output_type": "execute_result"
    }
   ],
   "source": [
    "tickers_df['growth'].max()"
   ]
  },
  {
   "cell_type": "code",
   "execution_count": 70,
   "metadata": {},
   "outputs": [],
   "source": [
    "answer_part_5 = tickers_df['growth'].max()"
   ]
  },
  {
   "cell_type": "markdown",
   "metadata": {},
   "source": [
    "<br><br>\n",
    "\n",
    "**Question 6.** What is the company that had the biggest stock price daily increase? Enter ticker of the company as an answer"
   ]
  },
  {
   "cell_type": "code",
   "execution_count": 71,
   "metadata": {},
   "outputs": [
    {
     "data": {
      "text/html": [
       "<div>\n",
       "<style scoped>\n",
       "    .dataframe tbody tr th:only-of-type {\n",
       "        vertical-align: middle;\n",
       "    }\n",
       "\n",
       "    .dataframe tbody tr th {\n",
       "        vertical-align: top;\n",
       "    }\n",
       "\n",
       "    .dataframe thead th {\n",
       "        text-align: right;\n",
       "    }\n",
       "</style>\n",
       "<table border=\"1\" class=\"dataframe\">\n",
       "  <thead>\n",
       "    <tr style=\"text-align: right;\">\n",
       "      <th></th>\n",
       "      <th>open</th>\n",
       "      <th>high</th>\n",
       "      <th>low</th>\n",
       "      <th>close</th>\n",
       "      <th>adj_close</th>\n",
       "      <th>volume</th>\n",
       "      <th>ticker</th>\n",
       "      <th>date</th>\n",
       "      <th>growth</th>\n",
       "    </tr>\n",
       "  </thead>\n",
       "  <tbody>\n",
       "    <tr>\n",
       "      <th>1340</th>\n",
       "      <td>371.27</td>\n",
       "      <td>402.67</td>\n",
       "      <td>365.55</td>\n",
       "      <td>400.01</td>\n",
       "      <td>390.64</td>\n",
       "      <td>34742200.0</td>\n",
       "      <td>BA</td>\n",
       "      <td>2019-03-11</td>\n",
       "      <td>7.740997</td>\n",
       "    </tr>\n",
       "  </tbody>\n",
       "</table>\n",
       "</div>"
      ],
      "text/plain": [
       "        open    high     low   close  adj_close      volume ticker       date  \\\n",
       "1340  371.27  402.67  365.55  400.01     390.64  34742200.0     BA 2019-03-11   \n",
       "\n",
       "        growth  \n",
       "1340  7.740997  "
      ]
     },
     "execution_count": 71,
     "metadata": {},
     "output_type": "execute_result"
    }
   ],
   "source": [
    "tickers_df.query('growth == @answer_part_5')"
   ]
  },
  {
   "cell_type": "code",
   "execution_count": null,
   "metadata": {},
   "outputs": [],
   "source": [
    "answer_part_6 = 'BA'"
   ]
  },
  {
   "cell_type": "markdown",
   "metadata": {},
   "source": [
    "<br>\n",
    "\n",
    "**Question 7.** What is the biggest stock price daily decrease (in %)? Enter the number"
   ]
  },
  {
   "cell_type": "code",
   "execution_count": 72,
   "metadata": {},
   "outputs": [
    {
     "data": {
      "text/plain": [
       "-7.16356455611108"
      ]
     },
     "execution_count": 72,
     "metadata": {},
     "output_type": "execute_result"
    }
   ],
   "source": [
    "tickers_df['growth'].min()"
   ]
  },
  {
   "cell_type": "code",
   "execution_count": 74,
   "metadata": {},
   "outputs": [],
   "source": [
    "answer_part_7 = tickers_df['growth'].min()"
   ]
  },
  {
   "cell_type": "markdown",
   "metadata": {},
   "source": [
    "<br>\n",
    "\n",
    "**Question 8.** What is the company that had the biggest stock price daily decrese (in %)? Enter ticker of the company as an answer"
   ]
  },
  {
   "cell_type": "code",
   "execution_count": 75,
   "metadata": {},
   "outputs": [
    {
     "data": {
      "text/html": [
       "<div>\n",
       "<style scoped>\n",
       "    .dataframe tbody tr th:only-of-type {\n",
       "        vertical-align: middle;\n",
       "    }\n",
       "\n",
       "    .dataframe tbody tr th {\n",
       "        vertical-align: top;\n",
       "    }\n",
       "\n",
       "    .dataframe thead th {\n",
       "        text-align: right;\n",
       "    }\n",
       "</style>\n",
       "<table border=\"1\" class=\"dataframe\">\n",
       "  <thead>\n",
       "    <tr style=\"text-align: right;\">\n",
       "      <th></th>\n",
       "      <th>open</th>\n",
       "      <th>high</th>\n",
       "      <th>low</th>\n",
       "      <th>close</th>\n",
       "      <th>adj_close</th>\n",
       "      <th>volume</th>\n",
       "      <th>ticker</th>\n",
       "      <th>date</th>\n",
       "      <th>growth</th>\n",
       "    </tr>\n",
       "  </thead>\n",
       "  <tbody>\n",
       "    <tr>\n",
       "      <th>2108</th>\n",
       "      <td>238.01</td>\n",
       "      <td>238.01</td>\n",
       "      <td>215.82</td>\n",
       "      <td>220.96</td>\n",
       "      <td>207.34</td>\n",
       "      <td>27361400.0</td>\n",
       "      <td>UNH</td>\n",
       "      <td>2019-04-16</td>\n",
       "      <td>-7.163565</td>\n",
       "    </tr>\n",
       "  </tbody>\n",
       "</table>\n",
       "</div>"
      ],
      "text/plain": [
       "        open    high     low   close  adj_close      volume ticker       date  \\\n",
       "2108  238.01  238.01  215.82  220.96     207.34  27361400.0    UNH 2019-04-16   \n",
       "\n",
       "        growth  \n",
       "2108 -7.163565  "
      ]
     },
     "execution_count": 75,
     "metadata": {},
     "output_type": "execute_result"
    }
   ],
   "source": [
    "tickers_df.query('growth == @answer_part_7')"
   ]
  },
  {
   "cell_type": "code",
   "execution_count": null,
   "metadata": {},
   "outputs": [],
   "source": [
    "answer_part_8 = 'UNH'"
   ]
  },
  {
   "cell_type": "markdown",
   "metadata": {},
   "source": [
    "<br>\n",
    "\n",
    "**Question 9.** What was the best month for all companies (i.e. average monthly price increase was the best)? Enter one of the following: January, February, March, April, May, June, July, August, September, October, November, December"
   ]
  },
  {
   "cell_type": "code",
   "execution_count": 79,
   "metadata": {},
   "outputs": [],
   "source": [
    "tickers_df['month'] = tickers_df.date.dt.month\n",
    "open_close_month = tickers_df.pivot_table(index=['ticker', 'month'],\n",
    "                                          values=['open', 'close'],\n",
    "                                          aggfunc={'open': 'first', 'close': 'last'}\n",
    "                                         )\n",
    "open_close_month['growth'] = (open_close_month.close / open_close_month.open - 1) * 100"
   ]
  },
  {
   "cell_type": "code",
   "execution_count": 84,
   "metadata": {},
   "outputs": [
    {
     "data": {
      "text/plain": [
       "month\n",
       "1     7.409273\n",
       "6     7.062817\n",
       "9     3.443022\n",
       "2     3.382967\n",
       "11    2.573628\n",
       "4     1.984414\n",
       "12    1.802325\n",
       "10    0.697505\n",
       "3     0.303609\n",
       "7    -0.240822\n",
       "8    -2.751223\n",
       "5    -6.664097\n",
       "Name: growth, dtype: float64"
      ]
     },
     "execution_count": 84,
     "metadata": {},
     "output_type": "execute_result"
    }
   ],
   "source": [
    "open_close_month.groupby('month')['growth'].mean().sort_values(ascending=False)"
   ]
  },
  {
   "cell_type": "code",
   "execution_count": null,
   "metadata": {},
   "outputs": [],
   "source": [
    "answer_part_9 = 'January'"
   ]
  },
  {
   "cell_type": "markdown",
   "metadata": {},
   "source": [
    "<br>\n",
    "\n",
    "**Question 10.** What was the worst month for all companies (i.e. average monthly price increase was the worst)? Enter one of the following: January, February, March, April, May, June, July, August, September, October, November, December"
   ]
  },
  {
   "cell_type": "code",
   "execution_count": 85,
   "metadata": {},
   "outputs": [],
   "source": [
    "answer_part_10 = 'May'"
   ]
  },
  {
   "cell_type": "markdown",
   "metadata": {},
   "source": [
    "<br>\n",
    "<br>\n",
    "\n",
    "#### Submit your answers"
   ]
  },
  {
   "cell_type": "code",
   "execution_count": null,
   "metadata": {},
   "outputs": [],
   "source": []
  }
 ],
 "metadata": {
  "kernelspec": {
   "display_name": "Python 3",
   "language": "python",
   "name": "python3"
  },
  "language_info": {
   "codemirror_mode": {
    "name": "ipython",
    "version": 3
   },
   "file_extension": ".py",
   "mimetype": "text/x-python",
   "name": "python",
   "nbconvert_exporter": "python",
   "pygments_lexer": "ipython3",
   "version": "3.8.8"
  }
 },
 "nbformat": 4,
 "nbformat_minor": 4
}
